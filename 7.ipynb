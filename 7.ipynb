{
 "cells": [
  {
   "cell_type": "code",
   "execution_count": 1,
   "id": "6f385254-23ef-462f-8549-77fde2650f36",
   "metadata": {},
   "outputs": [
    {
     "name": "stdout",
     "output_type": "stream",
     "text": [
      "Confidence Interval: (49.02001800772997, 50.97998199227003)\n"
     ]
    }
   ],
   "source": [
    "Ans:1\n",
    "import scipy.stats as stats\n",
    "\n",
    "sample_mean = 50\n",
    "sample_std = 5\n",
    "sample_size = 100  # Assuming a sample size of 100 for demonstration purposes\n",
    "\n",
    "confidence_level = 0.95\n",
    "alpha = 1 - confidence_level\n",
    "\n",
    "# Calculate the margin of error\n",
    "margin_of_error = stats.norm.ppf(1 - alpha / 2) * (sample_std / (sample_size ** 0.5))\n",
    "\n",
    "# Calculate the confidence interval\n",
    "lower_bound = sample_mean - margin_of_error\n",
    "upper_bound = sample_mean + margin_of_error\n",
    "\n",
    "print(f\"Confidence Interval: ({lower_bound}, {upper_bound})\")\n"
   ]
  },
  {
   "cell_type": "code",
   "execution_count": null,
   "id": "3af78a89-b648-4001-8a5c-767a322672a7",
   "metadata": {},
   "outputs": [],
   "source": [
    "Ans:2\n",
    "import numpy as np\n",
    "from scipy.stats import chisquare\n",
    "\n",
    "observed_freq = np.array([30, 25, 20, 15, 10, 20])  # observed frequencies of each color\n",
    "expected_freq = np.array([20, 20, 20, 10, 10, 20])  # expected frequencies of each color\n",
    "\n",
    "# Perform the chi-square goodness of fit test\n",
    "chi2_stat, p_value = chisquare(observed_freq, f_exp=expected_freq)\n",
    "\n",
    "# Compare the p-value to the significance level\n",
    "alpha = 0.05\n",
    "\n",
    "if p_value < alpha:\n",
    "    print(\"The distribution of colors in the M&M bag is significantly different from the expected distribution.\")\n",
    "else:\n",
    "    print(\"The distribution of colors in the M&M bag matches the expected distribution.\")\n",
    "\n",
    "print(f\"Chi-square statistic: {chi2_stat}\")\n",
    "print(f\"P-value: {p_value}\")\n"
   ]
  },
  {
   "cell_type": "code",
   "execution_count": null,
   "id": "006ea017-ab7f-4cd3-a6ee-9d8ef0a9d788",
   "metadata": {},
   "outputs": [],
   "source": [
    "Ans:3\n",
    "import numpy as np\n",
    "from scipy.stats import chi2_contingency\n",
    "\n",
    "# Define the contingency table\n",
    "observed = np.array([[20, 15],\n",
    "                     [10, 25],\n",
    "                     [15, 20]])\n",
    "\n",
    "# Perform the chi-square test of independence\n",
    "chi2_stat, p_value, dof, expected = chi2_contingency(observed)\n",
    "\n",
    "print(f\"Chi-square statistic: {chi2_stat}\")\n",
    "print(f\"P-value: {p_value}\")\n",
    "print(f\"Degrees of freedom: {dof}\")\n",
    "print(\"Expected frequencies:\")\n",
    "print(expected)\n",
    "\n"
   ]
  },
  {
   "cell_type": "code",
   "execution_count": null,
   "id": "8e7eb129-8c6d-4ef8-9938-3ac1c7c810fb",
   "metadata": {},
   "outputs": [],
   "source": [
    "Ans:4\n",
    "import statsmodels.api as sm\n",
    "\n",
    "sample_size = 500\n",
    "smokers = 60\n",
    "\n",
    "# Calculate the proportion of smokers\n",
    "smoking_proportion = smokers / sample_size\n",
    "\n",
    "# Calculate the confidence interval\n",
    "conf_interval = sm.stats.proportion_confint(smokers, sample_size, alpha=0.05, method='normal')\n",
    "\n",
    "# Print the confidence interval\n",
    "print(f\"Confidence Interval: {conf_interval}\")\n"
   ]
  },
  {
   "cell_type": "code",
   "execution_count": null,
   "id": "28a0669e-02f1-44de-8f29-2bf58ad95cd6",
   "metadata": {},
   "outputs": [],
   "source": [
    "Ans:5\n",
    "import scipy.stats as stats\n",
    "\n",
    "sample_mean = 75\n",
    "sample_std = 12\n",
    "sample_size = 100  # Assuming a sample size of 100 for demonstration purposes\n",
    "\n",
    "confidence_level = 0.90\n",
    "alpha = 1 - confidence_level\n",
    "\n",
    "# Calculate the margin of error\n",
    "margin_of_error = stats.norm.ppf(1 - alpha / 2) * (sample_std / (sample_size ** 0.5))\n",
    "\n",
    "# Calculate the confidence interval\n",
    "lower_bound = sample_mean - margin_of_error\n",
    "upper_bound = sample_mean + margin_of_error\n",
    "\n",
    "print(f\"Confidence Interval: ({lower_bound}, {upper_bound})\")\n"
   ]
  },
  {
   "cell_type": "code",
   "execution_count": null,
   "id": "b6e589fe-ea50-45ac-9223-9df747583f8a",
   "metadata": {},
   "outputs": [],
   "source": [
    "Ans:6\n",
    "import numpy as np\n",
    "import matplotlib.pyplot as plt\n",
    "import scipy.stats as stats\n",
    "\n",
    "df = 10  # degrees of freedom\n",
    "\n",
    "# Generate x values for the chi-square distribution\n",
    "x = np.linspace(0, 30, 500)\n",
    "\n",
    "# Calculate the probability density function (PDF) for the chi-square distribution\n",
    "pdf = stats.chi2.pdf(x, df)\n",
    "\n",
    "# Create the plot\n",
    "plt.plot(x, pdf, 'b-', label='Chi-square PDF')\n",
    "\n",
    "# Shade the area corresponding to a chi-square statistic of 15\n",
    "x_fill = np.linspace(15, 30, 100)\n",
    "pdf_fill = stats.chi2.pdf(x_fill, df)\n",
    "plt.fill_between(x_fill, pdf_fill, color='red', alpha=0.5, label='Chi-square statistic 15')\n",
    "\n",
    "# Set plot labels and title\n",
    "plt.xlabel('Chi-square statistic')\n",
    "plt.ylabel('Probability density')\n",
    "plt.title('Chi-square Distribution (df=10)')\n",
    "\n",
    "# Add a legend\n",
    "plt.legend()\n",
    "\n",
    "# Display the plot\n",
    "plt.show()\n"
   ]
  },
  {
   "cell_type": "code",
   "execution_count": null,
   "id": "c048e2c9-3055-48ab-8be5-0d3156d16f9c",
   "metadata": {},
   "outputs": [],
   "source": [
    "Ans:7\n",
    "import statsmodels.api as sm\n",
    "\n",
    "sample_size = 1000\n",
    "coke_preferred = 520\n",
    "\n",
    "# Calculate the proportion of people who prefer Coke\n",
    "coke_proportion = coke_preferred / sample_size\n",
    "\n",
    "# Calculate the confidence interval\n",
    "conf_interval = sm.stats.proportion_confint(coke_preferred, sample_size, alpha=0.01, method='normal')\n",
    "\n",
    "# Print the confidence interval\n",
    "print(f\"Confidence Interval: {conf_interval}\")\n"
   ]
  }
 ],
 "metadata": {
  "kernelspec": {
   "display_name": "Python 3 (ipykernel)",
   "language": "python",
   "name": "python3"
  },
  "language_info": {
   "codemirror_mode": {
    "name": "ipython",
    "version": 3
   },
   "file_extension": ".py",
   "mimetype": "text/x-python",
   "name": "python",
   "nbconvert_exporter": "python",
   "pygments_lexer": "ipython3",
   "version": "3.10.8"
  }
 },
 "nbformat": 4,
 "nbformat_minor": 5
}
